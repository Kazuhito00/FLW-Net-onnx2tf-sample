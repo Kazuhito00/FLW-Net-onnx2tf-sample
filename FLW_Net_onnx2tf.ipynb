{
  "nbformat": 4,
  "nbformat_minor": 0,
  "metadata": {
    "colab": {
      "provenance": []
    },
    "kernelspec": {
      "name": "python3",
      "display_name": "Python 3"
    },
    "language_info": {
      "name": "python"
    },
    "gpuClass": "standard",
    "accelerator": "GPU"
  },
  "cells": [
    {
      "cell_type": "markdown",
      "source": [
        "# パッケージインストール"
      ],
      "metadata": {
        "id": "tXwOLPImuP44"
      }
    },
    {
      "cell_type": "code",
      "source": [
        "!pip install -U tensorflow\n",
        "!pip install -U onnx\n",
        "!pip install -U nvidia-pyindex\n",
        "!pip install -U onnx-graphsurgeon\n",
        "!pip install -U onnxsim\n",
        "!pip install -U onnxruntime\n",
        "!pip install -U simple_onnx_processing_tools\n",
        "!pip install -U onnx2tf"
      ],
      "metadata": {
        "id": "5SgeZUyzuKPN"
      },
      "execution_count": null,
      "outputs": []
    },
    {
      "cell_type": "markdown",
      "source": [
        "# FLW-Netモデルロード"
      ],
      "metadata": {
        "id": "kmvzdaatucMI"
      }
    },
    {
      "cell_type": "code",
      "source": [
        "!git clone https://github.com/hitzhangyu/FLW-Net"
      ],
      "metadata": {
        "id": "xX9ZDzX_aW6h"
      },
      "execution_count": null,
      "outputs": []
    },
    {
      "cell_type": "code",
      "source": [
        "%cd FLW-Net"
      ],
      "metadata": {
        "id": "x_HWd0kBalhp"
      },
      "execution_count": null,
      "outputs": []
    },
    {
      "cell_type": "code",
      "source": [
        "import torch\n",
        "import model\n",
        "\n",
        "scale_factor = 20\n",
        "nbins = 14\n",
        "\n",
        "FLW_net = model.enhance_net_nopool(scale_factor, nbins).cuda()\n",
        "FLW_net.load_state_dict(torch.load('best_Epoch.pth'))"
      ],
      "metadata": {
        "id": "9u5Iav0_atUI"
      },
      "execution_count": null,
      "outputs": []
    },
    {
      "cell_type": "markdown",
      "source": [
        "# ONNX変換"
      ],
      "metadata": {
        "id": "FlyJu1fjwKUj"
      }
    },
    {
      "cell_type": "code",
      "source": [
        "def convert_to_onnx(net, file_name='output.onnx', input_shape=(512, 512), device='cpu'):\n",
        "    input_image = torch.randn(1, 3, input_shape[1], input_shape[0]).to(device)\n",
        "    histogram = torch.randn(1, 15, 1, 1).to(device)\n",
        "\n",
        "    input_layer_names = ['input_image', 'histogram']\n",
        "    output_layer_names = ['enhanced_image', 'retouch_image', 'ill_image']\n",
        "\n",
        "    torch.onnx.export(\n",
        "        net, \n",
        "        (input_image, histogram),\n",
        "        file_name, \n",
        "        verbose=True,\n",
        "        opset_version=13,\n",
        "    )"
      ],
      "metadata": {
        "id": "8Bjr-ML2epER"
      },
      "execution_count": 5,
      "outputs": []
    },
    {
      "cell_type": "code",
      "source": [
        "convert_to_onnx(FLW_net, file_name='FLW-Net_320x240.onnx', input_shape=(320, 240), device='cuda:0')\n",
        "convert_to_onnx(FLW_net, file_name='FLW-Net_640x480.onnx', input_shape=(640, 480), device='cuda:0')"
      ],
      "metadata": {
        "id": "QIHPGwXwj2qX"
      },
      "execution_count": null,
      "outputs": []
    },
    {
      "cell_type": "code",
      "source": [
        "!onnxsim 'FLW-Net_320x240.onnx' 'FLW-Net_320x240.onnx'\n",
        "!onnxsim 'FLW-Net_640x480.onnx' 'FLW-Net_640x480.onnx'"
      ],
      "metadata": {
        "id": "chxQb9iQxGy0"
      },
      "execution_count": null,
      "outputs": []
    },
    {
      "cell_type": "markdown",
      "source": [
        "# onnx2tfを用いてTFLiteへ変換"
      ],
      "metadata": {
        "id": "CBKrTIYRxHO8"
      }
    },
    {
      "cell_type": "code",
      "source": [
        "!onnx2tf -i FLW-Net_320x240.onnx -o saved_model_320x240"
      ],
      "metadata": {
        "id": "3D_yEXKgUin_"
      },
      "execution_count": null,
      "outputs": []
    },
    {
      "cell_type": "code",
      "source": [
        "!onnx2tf -i FLW-Net_640x480.onnx -o saved_model_640x480"
      ],
      "metadata": {
        "id": "ouZmEPnLU9x9"
      },
      "execution_count": null,
      "outputs": []
    }
  ]
}